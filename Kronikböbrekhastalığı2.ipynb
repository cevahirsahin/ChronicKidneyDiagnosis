{
 "cells": [
  {
   "cell_type": "code",
   "execution_count": 1,
   "id": "92135660-e641-4544-88be-8bcd1b8c7a75",
   "metadata": {},
   "outputs": [
    {
     "name": "stdout",
     "output_type": "stream",
     "text": [
      "Requirement already satisfied: ucimlrepo in c:\\users\\cevah\\anaconda3\\envs\\makine_proje\\lib\\site-packages (0.0.7)\n",
      "Requirement already satisfied: pandas>=1.0.0 in c:\\users\\cevah\\anaconda3\\envs\\makine_proje\\lib\\site-packages (from ucimlrepo) (2.2.2)\n",
      "Requirement already satisfied: certifi>=2020.12.5 in c:\\users\\cevah\\anaconda3\\envs\\makine_proje\\lib\\site-packages (from ucimlrepo) (2024.2.2)\n",
      "Requirement already satisfied: numpy>=1.26.0 in c:\\users\\cevah\\anaconda3\\envs\\makine_proje\\lib\\site-packages (from pandas>=1.0.0->ucimlrepo) (1.26.4)\n",
      "Requirement already satisfied: python-dateutil>=2.8.2 in c:\\users\\cevah\\anaconda3\\envs\\makine_proje\\lib\\site-packages (from pandas>=1.0.0->ucimlrepo) (2.9.0.post0)\n",
      "Requirement already satisfied: pytz>=2020.1 in c:\\users\\cevah\\anaconda3\\envs\\makine_proje\\lib\\site-packages (from pandas>=1.0.0->ucimlrepo) (2024.1)\n",
      "Requirement already satisfied: tzdata>=2022.7 in c:\\users\\cevah\\anaconda3\\envs\\makine_proje\\lib\\site-packages (from pandas>=1.0.0->ucimlrepo) (2024.1)\n",
      "Requirement already satisfied: six>=1.5 in c:\\users\\cevah\\anaconda3\\envs\\makine_proje\\lib\\site-packages (from python-dateutil>=2.8.2->pandas>=1.0.0->ucimlrepo) (1.16.0)\n",
      "Note: you may need to restart the kernel to use updated packages.\n"
     ]
    }
   ],
   "source": [
    "pip install ucimlrepo"
   ]
  },
  {
   "cell_type": "code",
   "execution_count": 2,
   "id": "c72baa82-574e-43d9-a5ae-8b923fa3f9de",
   "metadata": {},
   "outputs": [
    {
     "name": "stdout",
     "output_type": "stream",
     "text": [
      "{'uci_id': 336, 'name': 'Chronic Kidney Disease', 'repository_url': 'https://archive.ics.uci.edu/dataset/336/chronic+kidney+disease', 'data_url': 'https://archive.ics.uci.edu/static/public/336/data.csv', 'abstract': 'This dataset can be used to predict the chronic kidney disease and it can be collected from the hospital nearly 2 months of period.', 'area': 'Other', 'tasks': ['Classification'], 'characteristics': ['Multivariate'], 'num_instances': 400, 'num_features': 24, 'feature_types': ['Real'], 'demographics': ['Age'], 'target_col': ['class'], 'index_col': None, 'has_missing_values': 'yes', 'missing_values_symbol': 'NaN', 'year_of_dataset_creation': 2015, 'last_updated': 'Mon Mar 04 2024', 'dataset_doi': '10.24432/C5G020', 'creators': ['L. Rubini', 'P. Soundarapandian', 'P. Eswaran'], 'intro_paper': None, 'additional_info': {'summary': 'We use the following representation to collect the dataset\\r\\n                        age\\t\\t-\\tage\\t\\r\\n\\t\\t\\tbp\\t\\t-\\tblood pressure\\r\\n\\t\\t\\tsg\\t\\t-\\tspecific gravity\\r\\n\\t\\t\\tal\\t\\t-   \\talbumin\\r\\n\\t\\t\\tsu\\t\\t-\\tsugar\\r\\n\\t\\t\\trbc\\t\\t-\\tred blood cells\\r\\n\\t\\t\\tpc\\t\\t-\\tpus cell\\r\\n\\t\\t\\tpcc\\t\\t-\\tpus cell clumps\\r\\n\\t\\t\\tba\\t\\t-\\tbacteria\\r\\n\\t\\t\\tbgr\\t\\t-\\tblood glucose random\\r\\n\\t\\t\\tbu\\t\\t-\\tblood urea\\r\\n\\t\\t\\tsc\\t\\t-\\tserum creatinine\\r\\n\\t\\t\\tsod\\t\\t-\\tsodium\\r\\n\\t\\t\\tpot\\t\\t-\\tpotassium\\r\\n\\t\\t\\themo\\t\\t-\\themoglobin\\r\\n\\t\\t\\tpcv\\t\\t-\\tpacked cell volume\\r\\n\\t\\t\\twc\\t\\t-\\twhite blood cell count\\r\\n\\t\\t\\trc\\t\\t-\\tred blood cell count\\r\\n\\t\\t\\thtn\\t\\t-\\thypertension\\r\\n\\t\\t\\tdm\\t\\t-\\tdiabetes mellitus\\r\\n\\t\\t\\tcad\\t\\t-\\tcoronary artery disease\\r\\n\\t\\t\\tappet\\t\\t-\\tappetite\\r\\n\\t\\t\\tpe\\t\\t-\\tpedal edema\\r\\n\\t\\t\\tane\\t\\t-\\tanemia\\r\\n\\t\\t\\tclass\\t\\t-\\tclass\\t', 'purpose': None, 'funded_by': None, 'instances_represent': None, 'recommended_data_splits': None, 'sensitive_data': None, 'preprocessing_description': None, 'variable_info': 'We use 24 + class = 25 ( 11  numeric ,14  nominal)\\r\\n1.Age(numerical)\\r\\n  \\t  \\tage in years\\r\\n \\t2.Blood Pressure(numerical)\\r\\n\\t       \\tbp in mm/Hg\\r\\n \\t3.Specific Gravity(nominal)\\r\\n\\t  \\tsg - (1.005,1.010,1.015,1.020,1.025)\\r\\n \\t4.Albumin(nominal)\\r\\n\\t\\tal - (0,1,2,3,4,5)\\r\\n \\t5.Sugar(nominal)\\r\\n\\t\\tsu - (0,1,2,3,4,5)\\r\\n \\t6.Red Blood Cells(nominal)\\r\\n\\t\\trbc - (normal,abnormal)\\r\\n \\t7.Pus Cell (nominal)\\r\\n\\t\\tpc - (normal,abnormal)\\r\\n \\t8.Pus Cell clumps(nominal)\\r\\n\\t\\tpcc - (present,notpresent)\\r\\n \\t9.Bacteria(nominal)\\r\\n\\t\\tba  - (present,notpresent)\\r\\n \\t10.Blood Glucose Random(numerical)\\t\\t\\r\\n\\t\\tbgr in mgs/dl\\r\\n \\t11.Blood Urea(numerical)\\t\\r\\n\\t\\tbu in mgs/dl\\r\\n \\t12.Serum Creatinine(numerical)\\t\\r\\n\\t\\tsc in mgs/dl\\r\\n \\t13.Sodium(numerical)\\r\\n\\t\\tsod in mEq/L\\r\\n \\t14.Potassium(numerical)\\t\\r\\n\\t\\tpot in mEq/L\\r\\n \\t15.Hemoglobin(numerical)\\r\\n\\t\\themo in gms\\r\\n \\t16.Packed  Cell Volume(numerical)\\r\\n \\t17.White Blood Cell Count(numerical)\\r\\n\\t\\twc in cells/cumm\\r\\n \\t18.Red Blood Cell Count(numerical)\\t\\r\\n\\t\\trc in millions/cmm\\r\\n \\t19.Hypertension(nominal)\\t\\r\\n\\t\\thtn - (yes,no)\\r\\n \\t20.Diabetes Mellitus(nominal)\\t\\r\\n\\t\\tdm - (yes,no)\\r\\n \\t21.Coronary Artery Disease(nominal)\\r\\n\\t\\tcad - (yes,no)\\r\\n \\t22.Appetite(nominal)\\t\\r\\n\\t\\tappet - (good,poor)\\r\\n \\t23.Pedal Edema(nominal)\\r\\n\\t\\tpe - (yes,no)\\t\\r\\n \\t24.Anemia(nominal)\\r\\n\\t\\tane - (yes,no)\\r\\n \\t25.Class (nominal)\\t\\t\\r\\n\\t\\tclass - (ckd,notckd)', 'citation': None}}\n",
      "     name     role         type demographic              description  \\\n",
      "0     age  Feature      Integer         Age                     None   \n",
      "1      bp  Feature      Integer        None           blood pressure   \n",
      "2      sg  Feature  Categorical        None         specific gravity   \n",
      "3      al  Feature  Categorical        None                  albumin   \n",
      "4      su  Feature  Categorical        None                    sugar   \n",
      "5     rbc  Feature       Binary        None          red blood cells   \n",
      "6      pc  Feature       Binary        None                 pus cell   \n",
      "7     pcc  Feature       Binary        None          pus cell clumps   \n",
      "8      ba  Feature       Binary        None                 bacteria   \n",
      "9     bgr  Feature      Integer        None     blood glucose random   \n",
      "10     bu  Feature      Integer        None               blood urea   \n",
      "11     sc  Feature   Continuous        None         serum creatinine   \n",
      "12    sod  Feature      Integer        None                   sodium   \n",
      "13    pot  Feature   Continuous        None                potassium   \n",
      "14   hemo  Feature   Continuous        None               hemoglobin   \n",
      "15    pcv  Feature      Integer        None       packed cell volume   \n",
      "16   wbcc  Feature      Integer        None   white blood cell count   \n",
      "17   rbcc  Feature   Continuous        None     red blood cell count   \n",
      "18    htn  Feature       Binary        None             hypertension   \n",
      "19     dm  Feature       Binary        None        diabetes mellitus   \n",
      "20    cad  Feature       Binary        None  coronary artery disease   \n",
      "21  appet  Feature       Binary        None                 appetite   \n",
      "22     pe  Feature       Binary        None              pedal edema   \n",
      "23    ane  Feature       Binary        None                   anemia   \n",
      "24  class   Target       Binary        None           ckd or not ckd   \n",
      "\n",
      "           units missing_values  \n",
      "0           year            yes  \n",
      "1          mm/Hg            yes  \n",
      "2           None            yes  \n",
      "3           None            yes  \n",
      "4           None            yes  \n",
      "5           None            yes  \n",
      "6           None            yes  \n",
      "7           None            yes  \n",
      "8           None            yes  \n",
      "9         mgs/dl            yes  \n",
      "10        mgs/dl            yes  \n",
      "11        mgs/dl            yes  \n",
      "12         mEq/L            yes  \n",
      "13         mEq/L            yes  \n",
      "14           gms            yes  \n",
      "15          None            yes  \n",
      "16     cells/cmm            yes  \n",
      "17  millions/cmm            yes  \n",
      "18          None            yes  \n",
      "19          None            yes  \n",
      "20          None            yes  \n",
      "21          None            yes  \n",
      "22          None            yes  \n",
      "23          None            yes  \n",
      "24          None             no  \n"
     ]
    }
   ],
   "source": [
    "from ucimlrepo import fetch_ucirepo\n",
    "\n",
    "\n",
    "\n",
    "from ucimlrepo import fetch_ucirepo \n",
    "  \n",
    "# fetch dataset \n",
    "chronic_kidney_disease = fetch_ucirepo(id=336) \n",
    "  \n",
    "# data (as pandas dataframes) \n",
    "X = chronic_kidney_disease.data.features \n",
    "y = chronic_kidney_disease.data.targets \n",
    "  \n",
    "# metadata \n",
    "print(chronic_kidney_disease.metadata) \n",
    "  \n",
    "# variable information \n",
    "print(chronic_kidney_disease.variables)"
   ]
  },
  {
   "cell_type": "code",
   "execution_count": 3,
   "id": "bd9a85e8-4491-4612-9c5f-49a6bd29e243",
   "metadata": {},
   "outputs": [],
   "source": [
    "# Gerekli kütüphaneleri yükleyin\n",
    "import pandas as pd\n",
    "from ucimlrepo import fetch_ucirepo\n",
    "from sklearn.model_selection import train_test_split\n",
    "from sklearn.preprocessing import StandardScaler\n",
    "\n",
    "# Chronic Kidney Disease veri setini yükleyin\n",
    "chronic_kidney_disease = fetch_ucirepo(id=336)\n",
    "\n",
    "# Veriyi pandas DataFrame'e dönüştürün\n",
    "df = pd.DataFrame(chronic_kidney_disease.data.features, columns=chronic_kidney_disease.data.feature_names)\n",
    "df['class'] = chronic_kidney_disease.data.targets  # Hedef değişkenin adını 'class' olarak belirledim\n",
    "\n"
   ]
  },
  {
   "cell_type": "code",
   "execution_count": 4,
   "id": "f3eb69eb-4f63-49cb-8cc8-cc80b19b9cb7",
   "metadata": {},
   "outputs": [
    {
     "name": "stdout",
     "output_type": "stream",
     "text": [
      "    age    bp     sg   al   su     rbc        pc         pcc          ba  \\\n",
      "0  48.0  80.0  1.020  1.0  0.0     NaN    normal  notpresent  notpresent   \n",
      "1   7.0  50.0  1.020  4.0  0.0     NaN    normal  notpresent  notpresent   \n",
      "2  62.0  80.0  1.010  2.0  3.0  normal    normal  notpresent  notpresent   \n",
      "3  48.0  70.0  1.005  4.0  0.0  normal  abnormal     present  notpresent   \n",
      "4  51.0  80.0  1.010  2.0  0.0  normal    normal  notpresent  notpresent   \n",
      "\n",
      "     bgr  ...   pcv    wbcc  rbcc  htn   dm  cad  appet   pe  ane class  \n",
      "0  121.0  ...  44.0  7800.0   5.2  yes  yes   no   good   no   no   ckd  \n",
      "1    NaN  ...  38.0  6000.0   NaN   no   no   no   good   no   no   ckd  \n",
      "2  423.0  ...  31.0  7500.0   NaN   no  yes   no   poor   no  yes   ckd  \n",
      "3  117.0  ...  32.0  6700.0   3.9  yes   no   no   poor  yes  yes   ckd  \n",
      "4  106.0  ...  35.0  7300.0   4.6   no   no   no   good   no   no   ckd  \n",
      "\n",
      "[5 rows x 25 columns]\n"
     ]
    }
   ],
   "source": [
    "# Veri setini inceleyin\n",
    "print(df.head())"
   ]
  },
  {
   "cell_type": "code",
   "execution_count": 5,
   "id": "6f65f4ad-b919-488d-96a6-b3a24d6b2f27",
   "metadata": {},
   "outputs": [
    {
     "name": "stdout",
     "output_type": "stream",
     "text": [
      "age        9\n",
      "bp        12\n",
      "sg        47\n",
      "al        46\n",
      "su        49\n",
      "rbc      152\n",
      "pc        65\n",
      "pcc        4\n",
      "ba         4\n",
      "bgr       44\n",
      "bu        19\n",
      "sc        17\n",
      "sod       87\n",
      "pot       88\n",
      "hemo      52\n",
      "pcv       71\n",
      "wbcc     106\n",
      "rbcc     131\n",
      "htn        2\n",
      "dm         2\n",
      "cad        2\n",
      "appet      1\n",
      "pe         1\n",
      "ane        1\n",
      "class      0\n",
      "dtype: int64\n"
     ]
    }
   ],
   "source": [
    "# Eksik verileri kontrol edin\n",
    "print(df.isnull().sum())\n"
   ]
  },
  {
   "cell_type": "code",
   "execution_count": 29,
   "id": "578b85d0-9ee1-42fe-9a4b-25a7d1cd43e9",
   "metadata": {},
   "outputs": [
    {
     "name": "stdout",
     "output_type": "stream",
     "text": [
      "    age    bp     sg   al   su         bgr    bu   sc         sod       pot  \\\n",
      "0  48.0  80.0  1.020  1.0  0.0  121.000000  36.0  1.2  137.528754  4.627244   \n",
      "1   7.0  50.0  1.020  4.0  0.0  148.036517  18.0  0.8  137.528754  4.627244   \n",
      "2  62.0  80.0  1.010  2.0  3.0  423.000000  53.0  1.8  137.528754  4.627244   \n",
      "3  48.0  70.0  1.005  4.0  0.0  117.000000  56.0  3.8  111.000000  2.500000   \n",
      "4  51.0  80.0  1.010  2.0  0.0  106.000000  26.0  1.4  137.528754  4.627244   \n",
      "\n",
      "   ...  pc_normal  pcc_present  ba_present  htn_yes  dm_no  dm_yes  cad_yes  \\\n",
      "0  ...        1.0          0.0         0.0      1.0    0.0     1.0      0.0   \n",
      "1  ...        1.0          0.0         0.0      0.0    1.0     0.0      0.0   \n",
      "2  ...        1.0          0.0         0.0      0.0    0.0     1.0      0.0   \n",
      "3  ...        0.0          1.0         0.0      1.0    1.0     0.0      0.0   \n",
      "4  ...        1.0          0.0         0.0      0.0    1.0     0.0      0.0   \n",
      "\n",
      "   appet_poor  pe_yes  ane_yes  \n",
      "0         0.0     0.0      0.0  \n",
      "1         0.0     0.0      0.0  \n",
      "2         1.0     0.0      1.0  \n",
      "3         1.0     1.0      1.0  \n",
      "4         0.0     0.0      0.0  \n",
      "\n",
      "[5 rows x 25 columns]\n"
     ]
    }
   ],
   "source": [
    "\n",
    "import pandas as pd\n",
    "from sklearn.impute import SimpleImputer\n",
    "\n",
    "# Kategorik sütunları işleyin\n",
    "categorical_columns = X.select_dtypes(include=['object']).columns\n",
    "\n",
    "# Kategorik sütunları one-hot encoding ile dönüştürün\n",
    "X_categorical_encoded = pd.get_dummies(X[categorical_columns], drop_first=True)\n",
    "\n",
    "# One-hot encoding ile dönüştürülen kategorik sütunları asıl veri kümesinden çıkarın\n",
    "X_numeric = X.select_dtypes(exclude=['object'])\n",
    "\n",
    "# Kategorik ve sayısal sütunları birleştirin\n",
    "X_processed = pd.concat([X_numeric, X_categorical_encoded], axis=1)\n",
    "\n",
    "# Eksik değerleri doldurmak için imputer nesnesini tanımlayın\n",
    "imputer = SimpleImputer(strategy='mean')\n",
    "\n",
    "# Eksik değerleri doldurun\n",
    "X_filled = imputer.fit_transform(X_processed)\n",
    "\n",
    "# Doldurulmuş veriyi pandas DataFrame'e dönüştürün\n",
    "df_filled = pd.DataFrame(X_filled, columns=X_processed.columns)\n",
    "\n",
    "# Doldurulmuş veriyi gösterin\n",
    "print(df_filled.head())\n"
   ]
  },
  {
   "cell_type": "code",
   "execution_count": 11,
   "id": "1d29bd11-431f-46be-a85d-b30964ef9afb",
   "metadata": {},
   "outputs": [
    {
     "name": "stdout",
     "output_type": "stream",
     "text": [
      "    age    bp     sg   al   su     rbc        pc         pcc          ba  \\\n",
      "0  48.0  80.0   1.02  1.0  0.0  normal    normal  notpresent  notpresent   \n",
      "1   7.0  50.0   1.02  4.0  0.0  normal    normal  notpresent  notpresent   \n",
      "2  62.0  80.0   1.01  2.0  3.0  normal    normal  notpresent  notpresent   \n",
      "3  48.0  70.0  1.005  4.0  0.0  normal  abnormal     present  notpresent   \n",
      "4  51.0  80.0   1.01  2.0  0.0  normal    normal  notpresent  notpresent   \n",
      "\n",
      "     bgr  ... pc_normal pcc_present ba_present htn_yes  dm_no dm_yes cad_yes  \\\n",
      "0  121.0  ...      True       False      False    True  False   True   False   \n",
      "1   99.0  ...      True       False      False   False   True  False   False   \n",
      "2  423.0  ...      True       False      False   False  False   True   False   \n",
      "3  117.0  ...     False        True      False    True   True  False   False   \n",
      "4  106.0  ...      True       False      False   False   True  False   False   \n",
      "\n",
      "  appet_poor pe_yes ane_yes  \n",
      "0      False  False   False  \n",
      "1      False  False   False  \n",
      "2       True  False    True  \n",
      "3       True   True    True  \n",
      "4      False  False   False  \n",
      "\n",
      "[5 rows x 35 columns]\n"
     ]
    }
   ],
   "source": [
    "# Kategorik sütunları one-hot encoding ile dönüştürün\n",
    "X_categorical_encoded = pd.get_dummies(X[categorical_columns], drop_first=True)\n",
    "\n",
    "# Eksik değerleri doldurun\n",
    "X_filled = imputer.fit_transform(X)\n",
    "\n",
    "# Doldurulmuş veriyi pandas DataFrame'e dönüştürün\n",
    "df_filled = pd.DataFrame(X_filled, columns=X.columns)\n",
    "\n",
    "# Kategorik ve sayısal sütunları birleştirin\n",
    "df_processed = pd.concat([df_filled, X_categorical_encoded], axis=1)\n",
    "\n",
    "# Doldurulmuş veriyi gösterin\n",
    "print(df_processed.head())"
   ]
  },
  {
   "cell_type": "code",
   "execution_count": 12,
   "id": "e7301259-a2b3-4900-bfa3-f508137330c0",
   "metadata": {},
   "outputs": [
    {
     "name": "stdout",
     "output_type": "stream",
     "text": [
      "age      0\n",
      "bp       0\n",
      "sg       0\n",
      "al       0\n",
      "su       0\n",
      "rbc      0\n",
      "pc       0\n",
      "pcc      0\n",
      "ba       0\n",
      "bgr      0\n",
      "bu       0\n",
      "sc       0\n",
      "sod      0\n",
      "pot      0\n",
      "hemo     0\n",
      "pcv      0\n",
      "wbcc     0\n",
      "rbcc     0\n",
      "htn      0\n",
      "dm       0\n",
      "cad      0\n",
      "appet    0\n",
      "pe       0\n",
      "ane      0\n",
      "dtype: int64\n"
     ]
    }
   ],
   "source": [
    "# Eksik veri sayısını kontrol et\n",
    "print(df_filled.isnull().sum())"
   ]
  },
  {
   "cell_type": "code",
   "execution_count": 39,
   "id": "fd5a8529-bbaf-4659-95fc-40fe83d30748",
   "metadata": {
    "scrolled": true
   },
   "outputs": [
    {
     "name": "stdout",
     "output_type": "stream",
     "text": [
      "Sınıflandırma Raporu:\n",
      "              precision    recall  f1-score   support\n",
      "\n",
      "         ckd       0.65      1.00      0.79        52\n",
      "      notckd       0.00      0.00      0.00        28\n",
      "\n",
      "    accuracy                           0.65        80\n",
      "   macro avg       0.33      0.50      0.39        80\n",
      "weighted avg       0.42      0.65      0.51        80\n",
      "\n"
     ]
    }
   ],
   "source": [
    "from sklearn.model_selection import train_test_split\n",
    "import numpy as np\n",
    "y = np.ravel(y)\n",
    "# Veri setini eğitim ve test setlerine ayırma\n",
    "X_train, X_test, y_train, y_test = train_test_split(df_filled, y, test_size=0.2, random_state=42)\n",
    "\n",
    "\n",
    "from sklearn.svm import SVC\n",
    "from sklearn.metrics import classification_report\n",
    "\n",
    "# Modeli oluşturma ve eğitme\n",
    "model = SVC()\n",
    "model.fit(X_train, y_train)\n",
    "\n",
    "# Test seti üzerinde tahmin yapma\n",
    "y_pred = model.predict(X_test)\n",
    "\n",
    "# Sınıflandırma raporu\n",
    "print(\"Sınıflandırma Raporu:\")\n",
    "print(classification_report(y_test, y_pred, zero_division=0))\n",
    "\n"
   ]
  },
  {
   "cell_type": "code",
   "execution_count": 41,
   "id": "fae8708d-e1c5-4c91-b701-a64588fd3dc1",
   "metadata": {},
   "outputs": [
    {
     "name": "stdout",
     "output_type": "stream",
     "text": [
      "Sınıflandırma Raporu:\n",
      "              precision    recall  f1-score   support\n",
      "\n",
      "         ckd       1.00      1.00      1.00        52\n",
      "      notckd       1.00      1.00      1.00        28\n",
      "\n",
      "    accuracy                           1.00        80\n",
      "   macro avg       1.00      1.00      1.00        80\n",
      "weighted avg       1.00      1.00      1.00        80\n",
      "\n"
     ]
    }
   ],
   "source": [
    "from sklearn.ensemble import RandomForestClassifier\n",
    "\n",
    "# Modeli oluşturma ve eğitme\n",
    "model = RandomForestClassifier()\n",
    "model.fit(X_train, y_train)\n",
    "\n",
    "# Test seti üzerinde tahmin yapma\n",
    "y_pred = model.predict(X_test)\n",
    "\n",
    "# Sınıflandırma raporu\n",
    "print(\"Sınıflandırma Raporu:\")\n",
    "print(classification_report(y_test, y_pred,zero_division=0))"
   ]
  },
  {
   "cell_type": "code",
   "execution_count": 42,
   "id": "13334e55-ccfc-40b7-a07b-bafaf7c3780a",
   "metadata": {},
   "outputs": [
    {
     "name": "stdout",
     "output_type": "stream",
     "text": [
      "Sınıflandırma Raporu:\n",
      "              precision    recall  f1-score   support\n",
      "\n",
      "         ckd       0.92      0.63      0.75        52\n",
      "      notckd       0.57      0.89      0.69        28\n",
      "\n",
      "    accuracy                           0.72        80\n",
      "   macro avg       0.74      0.76      0.72        80\n",
      "weighted avg       0.79      0.72      0.73        80\n",
      "\n"
     ]
    }
   ],
   "source": [
    "from sklearn.neighbors import KNeighborsClassifier\n",
    "\n",
    "# Modeli oluşturma ve eğitme\n",
    "model = KNeighborsClassifier()\n",
    "model.fit(X_train, y_train)\n",
    "\n",
    "# Test seti üzerinde tahmin yapma\n",
    "y_pred = model.predict(X_test)\n",
    "\n",
    "# Sınıflandırma raporu\n",
    "print(\"Sınıflandırma Raporu:\")\n",
    "print(classification_report(y_test, y_pred,zero_division=0))\n"
   ]
  },
  {
   "cell_type": "code",
   "execution_count": 43,
   "id": "6bd18049-2b20-4631-a839-462e2a0806ec",
   "metadata": {},
   "outputs": [
    {
     "name": "stdout",
     "output_type": "stream",
     "text": [
      "Sınıflandırma Raporu:\n",
      "              precision    recall  f1-score   support\n",
      "\n",
      "         ckd       1.00      0.96      0.98        52\n",
      "        ckd\t       0.00      0.00      0.00         0\n",
      "      notckd       0.97      1.00      0.98        28\n",
      "\n",
      "    accuracy                           0.97        80\n",
      "   macro avg       0.66      0.65      0.65        80\n",
      "weighted avg       0.99      0.97      0.98        80\n",
      "\n"
     ]
    }
   ],
   "source": [
    "from sklearn.tree import DecisionTreeClassifier\n",
    "\n",
    "# Modeli oluşturma ve eğitme\n",
    "model = DecisionTreeClassifier()\n",
    "model.fit(X_train, y_train)\n",
    "\n",
    "# Test seti üzerinde tahmin yapma\n",
    "y_pred = model.predict(X_test)\n",
    "\n",
    "# Sınıflandırma raporu\n",
    "print(\"Sınıflandırma Raporu:\")\n",
    "print(classification_report(y_test, y_pred,zero_division=0))"
   ]
  },
  {
   "cell_type": "code",
   "execution_count": 47,
   "id": "c7fd9706-9296-4407-a0aa-308c319a19e3",
   "metadata": {},
   "outputs": [
    {
     "name": "stdout",
     "output_type": "stream",
     "text": [
      "Sınıflandırma Raporu:\n",
      "              precision    recall  f1-score   support\n",
      "\n",
      "         ckd       0.94      0.92      0.93        52\n",
      "      notckd       0.86      0.89      0.88        28\n",
      "\n",
      "    accuracy                           0.91        80\n",
      "   macro avg       0.90      0.91      0.90        80\n",
      "weighted avg       0.91      0.91      0.91        80\n",
      "\n"
     ]
    },
    {
     "name": "stderr",
     "output_type": "stream",
     "text": [
      "C:\\Users\\cevah\\anaconda3\\envs\\makine_proje\\Lib\\site-packages\\sklearn\\linear_model\\_logistic.py:469: ConvergenceWarning: lbfgs failed to converge (status=1):\n",
      "STOP: TOTAL NO. of ITERATIONS REACHED LIMIT.\n",
      "\n",
      "Increase the number of iterations (max_iter) or scale the data as shown in:\n",
      "    https://scikit-learn.org/stable/modules/preprocessing.html\n",
      "Please also refer to the documentation for alternative solver options:\n",
      "    https://scikit-learn.org/stable/modules/linear_model.html#logistic-regression\n",
      "  n_iter_i = _check_optimize_result(\n"
     ]
    }
   ],
   "source": [
    "from sklearn.linear_model import LogisticRegression\n",
    "\n",
    "# Modeli oluşturma ve eğitme\n",
    "model = LogisticRegression()\n",
    "model.fit(X_train, y_train)\n",
    "\n",
    "# Test seti üzerinde tahmin yapma\n",
    "y_pred = model.predict(X_test)\n",
    "\n",
    "# Sınıflandırma raporu\n",
    "print(\"Sınıflandırma Raporu:\")\n",
    "print(classification_report(y_test, y_pred))"
   ]
  },
  {
   "cell_type": "code",
   "execution_count": 46,
   "id": "12657d91-da2a-4e40-a083-85f1806cce47",
   "metadata": {},
   "outputs": [
    {
     "name": "stdout",
     "output_type": "stream",
     "text": [
      "Sınıflandırma Raporu:\n",
      "              precision    recall  f1-score   support\n",
      "\n",
      "         ckd       1.00      0.81      0.89        52\n",
      "      notckd       0.74      1.00      0.85        28\n",
      "\n",
      "    accuracy                           0.88        80\n",
      "   macro avg       0.87      0.90      0.87        80\n",
      "weighted avg       0.91      0.88      0.88        80\n",
      "\n"
     ]
    }
   ],
   "source": [
    "from sklearn.neural_network import MLPClassifier\n",
    "\n",
    "# Modeli oluşturma\n",
    "model = MLPClassifier(hidden_layer_sizes=(100,), max_iter=1000, random_state=42)\n",
    "\n",
    "# Modeli eğitme\n",
    "model.fit(X_train, y_train)\n",
    "\n",
    "# Test seti üzerinde tahmin yapma\n",
    "y_pred = model.predict(X_test)\n",
    "\n",
    "# Sınıflandırma raporu\n",
    "print(\"Sınıflandırma Raporu:\")\n",
    "print(classification_report(y_test, y_pred))"
   ]
  },
  {
   "cell_type": "code",
   "execution_count": null,
   "id": "8984230b-fbf1-41a4-90e3-d212c04626dd",
   "metadata": {},
   "outputs": [],
   "source": []
  }
 ],
 "metadata": {
  "kernelspec": {
   "display_name": "Python 3 (ipykernel)",
   "language": "python",
   "name": "python3"
  },
  "language_info": {
   "codemirror_mode": {
    "name": "ipython",
    "version": 3
   },
   "file_extension": ".py",
   "mimetype": "text/x-python",
   "name": "python",
   "nbconvert_exporter": "python",
   "pygments_lexer": "ipython3",
   "version": "3.12.3"
  }
 },
 "nbformat": 4,
 "nbformat_minor": 5
}
