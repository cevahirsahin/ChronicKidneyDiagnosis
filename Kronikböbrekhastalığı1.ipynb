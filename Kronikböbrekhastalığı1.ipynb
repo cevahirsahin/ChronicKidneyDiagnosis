{
 "cells": [
  {
   "cell_type": "code",
   "execution_count": 1,
   "id": "1d0a75d3-d57b-4064-b7c4-bde4aae67133",
   "metadata": {},
   "outputs": [
    {
     "name": "stdout",
     "output_type": "stream",
     "text": [
      "Requirement already satisfied: ucimlrepo in c:\\users\\cevah\\anaconda3\\envs\\makine_proje\\lib\\site-packages (0.0.7)\n",
      "Requirement already satisfied: pandas>=1.0.0 in c:\\users\\cevah\\anaconda3\\envs\\makine_proje\\lib\\site-packages (from ucimlrepo) (2.2.2)\n",
      "Requirement already satisfied: certifi>=2020.12.5 in c:\\users\\cevah\\anaconda3\\envs\\makine_proje\\lib\\site-packages (from ucimlrepo) (2024.2.2)\n",
      "Requirement already satisfied: numpy>=1.26.0 in c:\\users\\cevah\\anaconda3\\envs\\makine_proje\\lib\\site-packages (from pandas>=1.0.0->ucimlrepo) (1.26.4)\n",
      "Requirement already satisfied: python-dateutil>=2.8.2 in c:\\users\\cevah\\anaconda3\\envs\\makine_proje\\lib\\site-packages (from pandas>=1.0.0->ucimlrepo) (2.9.0.post0)\n",
      "Requirement already satisfied: pytz>=2020.1 in c:\\users\\cevah\\anaconda3\\envs\\makine_proje\\lib\\site-packages (from pandas>=1.0.0->ucimlrepo) (2024.1)\n",
      "Requirement already satisfied: tzdata>=2022.7 in c:\\users\\cevah\\anaconda3\\envs\\makine_proje\\lib\\site-packages (from pandas>=1.0.0->ucimlrepo) (2024.1)\n",
      "Requirement already satisfied: six>=1.5 in c:\\users\\cevah\\anaconda3\\envs\\makine_proje\\lib\\site-packages (from python-dateutil>=2.8.2->pandas>=1.0.0->ucimlrepo) (1.16.0)\n",
      "Note: you may need to restart the kernel to use updated packages.\n"
     ]
    }
   ],
   "source": [
    "pip install ucimlrepo"
   ]
  },
  {
   "cell_type": "code",
   "execution_count": 2,
   "id": "0816248e-9549-4840-a16f-87c15e7a8df3",
   "metadata": {},
   "outputs": [
    {
     "name": "stdout",
     "output_type": "stream",
     "text": [
      "{'uci_id': 336, 'name': 'Chronic Kidney Disease', 'repository_url': 'https://archive.ics.uci.edu/dataset/336/chronic+kidney+disease', 'data_url': 'https://archive.ics.uci.edu/static/public/336/data.csv', 'abstract': 'This dataset can be used to predict the chronic kidney disease and it can be collected from the hospital nearly 2 months of period.', 'area': 'Other', 'tasks': ['Classification'], 'characteristics': ['Multivariate'], 'num_instances': 400, 'num_features': 24, 'feature_types': ['Real'], 'demographics': ['Age'], 'target_col': ['class'], 'index_col': None, 'has_missing_values': 'yes', 'missing_values_symbol': 'NaN', 'year_of_dataset_creation': 2015, 'last_updated': 'Mon Mar 04 2024', 'dataset_doi': '10.24432/C5G020', 'creators': ['L. Rubini', 'P. Soundarapandian', 'P. Eswaran'], 'intro_paper': None, 'additional_info': {'summary': 'We use the following representation to collect the dataset\\r\\n                        age\\t\\t-\\tage\\t\\r\\n\\t\\t\\tbp\\t\\t-\\tblood pressure\\r\\n\\t\\t\\tsg\\t\\t-\\tspecific gravity\\r\\n\\t\\t\\tal\\t\\t-   \\talbumin\\r\\n\\t\\t\\tsu\\t\\t-\\tsugar\\r\\n\\t\\t\\trbc\\t\\t-\\tred blood cells\\r\\n\\t\\t\\tpc\\t\\t-\\tpus cell\\r\\n\\t\\t\\tpcc\\t\\t-\\tpus cell clumps\\r\\n\\t\\t\\tba\\t\\t-\\tbacteria\\r\\n\\t\\t\\tbgr\\t\\t-\\tblood glucose random\\r\\n\\t\\t\\tbu\\t\\t-\\tblood urea\\r\\n\\t\\t\\tsc\\t\\t-\\tserum creatinine\\r\\n\\t\\t\\tsod\\t\\t-\\tsodium\\r\\n\\t\\t\\tpot\\t\\t-\\tpotassium\\r\\n\\t\\t\\themo\\t\\t-\\themoglobin\\r\\n\\t\\t\\tpcv\\t\\t-\\tpacked cell volume\\r\\n\\t\\t\\twc\\t\\t-\\twhite blood cell count\\r\\n\\t\\t\\trc\\t\\t-\\tred blood cell count\\r\\n\\t\\t\\thtn\\t\\t-\\thypertension\\r\\n\\t\\t\\tdm\\t\\t-\\tdiabetes mellitus\\r\\n\\t\\t\\tcad\\t\\t-\\tcoronary artery disease\\r\\n\\t\\t\\tappet\\t\\t-\\tappetite\\r\\n\\t\\t\\tpe\\t\\t-\\tpedal edema\\r\\n\\t\\t\\tane\\t\\t-\\tanemia\\r\\n\\t\\t\\tclass\\t\\t-\\tclass\\t', 'purpose': None, 'funded_by': None, 'instances_represent': None, 'recommended_data_splits': None, 'sensitive_data': None, 'preprocessing_description': None, 'variable_info': 'We use 24 + class = 25 ( 11  numeric ,14  nominal)\\r\\n1.Age(numerical)\\r\\n  \\t  \\tage in years\\r\\n \\t2.Blood Pressure(numerical)\\r\\n\\t       \\tbp in mm/Hg\\r\\n \\t3.Specific Gravity(nominal)\\r\\n\\t  \\tsg - (1.005,1.010,1.015,1.020,1.025)\\r\\n \\t4.Albumin(nominal)\\r\\n\\t\\tal - (0,1,2,3,4,5)\\r\\n \\t5.Sugar(nominal)\\r\\n\\t\\tsu - (0,1,2,3,4,5)\\r\\n \\t6.Red Blood Cells(nominal)\\r\\n\\t\\trbc - (normal,abnormal)\\r\\n \\t7.Pus Cell (nominal)\\r\\n\\t\\tpc - (normal,abnormal)\\r\\n \\t8.Pus Cell clumps(nominal)\\r\\n\\t\\tpcc - (present,notpresent)\\r\\n \\t9.Bacteria(nominal)\\r\\n\\t\\tba  - (present,notpresent)\\r\\n \\t10.Blood Glucose Random(numerical)\\t\\t\\r\\n\\t\\tbgr in mgs/dl\\r\\n \\t11.Blood Urea(numerical)\\t\\r\\n\\t\\tbu in mgs/dl\\r\\n \\t12.Serum Creatinine(numerical)\\t\\r\\n\\t\\tsc in mgs/dl\\r\\n \\t13.Sodium(numerical)\\r\\n\\t\\tsod in mEq/L\\r\\n \\t14.Potassium(numerical)\\t\\r\\n\\t\\tpot in mEq/L\\r\\n \\t15.Hemoglobin(numerical)\\r\\n\\t\\themo in gms\\r\\n \\t16.Packed  Cell Volume(numerical)\\r\\n \\t17.White Blood Cell Count(numerical)\\r\\n\\t\\twc in cells/cumm\\r\\n \\t18.Red Blood Cell Count(numerical)\\t\\r\\n\\t\\trc in millions/cmm\\r\\n \\t19.Hypertension(nominal)\\t\\r\\n\\t\\thtn - (yes,no)\\r\\n \\t20.Diabetes Mellitus(nominal)\\t\\r\\n\\t\\tdm - (yes,no)\\r\\n \\t21.Coronary Artery Disease(nominal)\\r\\n\\t\\tcad - (yes,no)\\r\\n \\t22.Appetite(nominal)\\t\\r\\n\\t\\tappet - (good,poor)\\r\\n \\t23.Pedal Edema(nominal)\\r\\n\\t\\tpe - (yes,no)\\t\\r\\n \\t24.Anemia(nominal)\\r\\n\\t\\tane - (yes,no)\\r\\n \\t25.Class (nominal)\\t\\t\\r\\n\\t\\tclass - (ckd,notckd)', 'citation': None}}\n",
      "     name     role         type demographic              description  \\\n",
      "0     age  Feature      Integer         Age                     None   \n",
      "1      bp  Feature      Integer        None           blood pressure   \n",
      "2      sg  Feature  Categorical        None         specific gravity   \n",
      "3      al  Feature  Categorical        None                  albumin   \n",
      "4      su  Feature  Categorical        None                    sugar   \n",
      "5     rbc  Feature       Binary        None          red blood cells   \n",
      "6      pc  Feature       Binary        None                 pus cell   \n",
      "7     pcc  Feature       Binary        None          pus cell clumps   \n",
      "8      ba  Feature       Binary        None                 bacteria   \n",
      "9     bgr  Feature      Integer        None     blood glucose random   \n",
      "10     bu  Feature      Integer        None               blood urea   \n",
      "11     sc  Feature   Continuous        None         serum creatinine   \n",
      "12    sod  Feature      Integer        None                   sodium   \n",
      "13    pot  Feature   Continuous        None                potassium   \n",
      "14   hemo  Feature   Continuous        None               hemoglobin   \n",
      "15    pcv  Feature      Integer        None       packed cell volume   \n",
      "16   wbcc  Feature      Integer        None   white blood cell count   \n",
      "17   rbcc  Feature   Continuous        None     red blood cell count   \n",
      "18    htn  Feature       Binary        None             hypertension   \n",
      "19     dm  Feature       Binary        None        diabetes mellitus   \n",
      "20    cad  Feature       Binary        None  coronary artery disease   \n",
      "21  appet  Feature       Binary        None                 appetite   \n",
      "22     pe  Feature       Binary        None              pedal edema   \n",
      "23    ane  Feature       Binary        None                   anemia   \n",
      "24  class   Target       Binary        None           ckd or not ckd   \n",
      "\n",
      "           units missing_values  \n",
      "0           year            yes  \n",
      "1          mm/Hg            yes  \n",
      "2           None            yes  \n",
      "3           None            yes  \n",
      "4           None            yes  \n",
      "5           None            yes  \n",
      "6           None            yes  \n",
      "7           None            yes  \n",
      "8           None            yes  \n",
      "9         mgs/dl            yes  \n",
      "10        mgs/dl            yes  \n",
      "11        mgs/dl            yes  \n",
      "12         mEq/L            yes  \n",
      "13         mEq/L            yes  \n",
      "14           gms            yes  \n",
      "15          None            yes  \n",
      "16     cells/cmm            yes  \n",
      "17  millions/cmm            yes  \n",
      "18          None            yes  \n",
      "19          None            yes  \n",
      "20          None            yes  \n",
      "21          None            yes  \n",
      "22          None            yes  \n",
      "23          None            yes  \n",
      "24          None             no  \n"
     ]
    }
   ],
   "source": [
    "from ucimlrepo import fetch_ucirepo\n",
    "\n",
    "\n",
    "\n",
    "from ucimlrepo import fetch_ucirepo \n",
    "  \n",
    "# fetch dataset \n",
    "chronic_kidney_disease = fetch_ucirepo(id=336) \n",
    "  \n",
    "# data (as pandas dataframes) \n",
    "X = chronic_kidney_disease.data.features \n",
    "y = chronic_kidney_disease.data.targets \n",
    "  \n",
    "# metadata \n",
    "print(chronic_kidney_disease.metadata) \n",
    "  \n",
    "# variable information \n",
    "print(chronic_kidney_disease.variables)"
   ]
  },
  {
   "cell_type": "code",
   "execution_count": 3,
   "id": "2aac15c4-793f-421a-a5dd-1499ca4ed75c",
   "metadata": {},
   "outputs": [],
   "source": [
    "from sklearn.impute import SimpleImputer\n",
    "\n",
    "# En sık tekrar eden değer ile doldurma\n",
    "imputer = SimpleImputer(strategy='most_frequent')\n",
    "X_filled_mode = imputer.fit_transform(X)"
   ]
  },
  {
   "cell_type": "code",
   "execution_count": 4,
   "id": "e7769bb1-d8a2-44dd-97a7-a27ba5ffdc43",
   "metadata": {},
   "outputs": [
    {
     "name": "stdout",
     "output_type": "stream",
     "text": [
      "(400, 24)\n"
     ]
    }
   ],
   "source": [
    "print(X_filled_mode.shape)"
   ]
  },
  {
   "cell_type": "code",
   "execution_count": 6,
   "id": "50d9865c-b9f6-4180-89d8-9e3f1ae09b74",
   "metadata": {},
   "outputs": [],
   "source": [
    "from sklearn.preprocessing import OneHotEncoder\n",
    "\n",
    "# Kategorik sütunları belirleme\n",
    "categorical_column_indices = [0, 1, 2, 3, 4, 5, 6, 7, 8, 9, 10, 11, 12, 13, 14, 15]\n",
    "\n",
    "# Kategorik sütunları dönüştürme\n",
    "encoder = OneHotEncoder()  # Remove sparse=False\n",
    "X_categorical = encoder.fit_transform(X_filled_mode[:, categorical_column_indices])\n"
   ]
  },
  {
   "cell_type": "code",
   "execution_count": 8,
   "id": "b8e9b2e1-8b6a-403c-8d64-4d89f94b6bd8",
   "metadata": {},
   "outputs": [
    {
     "name": "stdout",
     "output_type": "stream",
     "text": [
      "              precision    recall  f1-score   support\n",
      "\n",
      "         ckd       1.00      0.96      0.98        52\n",
      "      notckd       0.93      1.00      0.97        28\n",
      "\n",
      "    accuracy                           0.97        80\n",
      "   macro avg       0.97      0.98      0.97        80\n",
      "weighted avg       0.98      0.97      0.98        80\n",
      "\n"
     ]
    }
   ],
   "source": [
    "from sklearn.model_selection import train_test_split  # Importing train_test_split\n",
    "\n",
    "# Bağımsız değişkenlerin ve bağımlı değişkenin eğitim ve test setlerine bölünmesi\n",
    "X_train, X_test, y_train, y_test = train_test_split(X_categorical, y, test_size=0.2, random_state=42)\n",
    "\n",
    "# Etiket verilerini sütun vektörüne dönüştürme\n",
    "y_train = y_train.values.ravel()\n",
    "y_test = y_test.values.ravel()\n",
    "\n",
    "from sklearn.svm import SVC\n",
    "# Modeli tanımlama ve eğitme\n",
    "model = SVC()\n",
    "model.fit(X_train, y_train)\n",
    "\n",
    "# Eğitilmiş modelle test seti üzerinde tahmin yapma\n",
    "y_pred = model.predict(X_test)\n",
    "\n",
    "# Modelin performansını değerlendirme\n",
    "from sklearn.metrics import classification_report\n",
    "print(classification_report(y_test, y_pred))\n"
   ]
  },
  {
   "cell_type": "code",
   "execution_count": 11,
   "id": "9c51e8dc-e920-44e7-b23e-7d7a2e6e4a9c",
   "metadata": {},
   "outputs": [
    {
     "name": "stdout",
     "output_type": "stream",
     "text": [
      "Random Forest Modeli Performansı:\n",
      "              precision    recall  f1-score   support\n",
      "\n",
      "         ckd       1.00      0.94      0.97        52\n",
      "      notckd       0.90      1.00      0.95        28\n",
      "\n",
      "    accuracy                           0.96        80\n",
      "   macro avg       0.95      0.97      0.96        80\n",
      "weighted avg       0.97      0.96      0.96        80\n",
      "\n"
     ]
    }
   ],
   "source": [
    "\n",
    "from sklearn.ensemble import RandomForestClassifier\n",
    "\n",
    "# Modeli tanımlama ve eğitme\n",
    "rf_model = RandomForestClassifier()\n",
    "rf_model.fit(X_train, y_train)\n",
    "\n",
    "# Eğitilmiş modelle test seti üzerinde tahmin yapma\n",
    "rf_y_pred = rf_model.predict(X_test)\n",
    "\n",
    "# Modelin performansını değerlendirme\n",
    "print(\"Random Forest Modeli Performansı:\")\n",
    "print(classification_report(y_test, rf_y_pred))"
   ]
  },
  {
   "cell_type": "code",
   "execution_count": 12,
   "id": "89e16b5e-cee0-4d48-a2ff-39255b247fe4",
   "metadata": {},
   "outputs": [
    {
     "name": "stdout",
     "output_type": "stream",
     "text": [
      "K-Nearest Neighbors (KNN) Modeli Performansı:\n",
      "              precision    recall  f1-score   support\n",
      "\n",
      "         ckd       0.96      0.83      0.89        52\n",
      "      notckd       0.74      0.93      0.83        28\n",
      "\n",
      "    accuracy                           0.86        80\n",
      "   macro avg       0.85      0.88      0.86        80\n",
      "weighted avg       0.88      0.86      0.87        80\n",
      "\n"
     ]
    }
   ],
   "source": [
    "from sklearn.neighbors import KNeighborsClassifier\n",
    "\n",
    "# Modeli tanımlama ve eğitme\n",
    "knn_model = KNeighborsClassifier()\n",
    "knn_model.fit(X_train, y_train)\n",
    "\n",
    "# Eğitilmiş modelle test seti üzerinde tahmin yapma\n",
    "knn_y_pred = knn_model.predict(X_test)\n",
    "\n",
    "# Modelin performansını değerlendirme\n",
    "print(\"K-Nearest Neighbors (KNN) Modeli Performansı:\")\n",
    "print(classification_report(y_test, knn_y_pred))"
   ]
  },
  {
   "cell_type": "code",
   "execution_count": 13,
   "id": "1f6a1ca8-a884-4e02-94b2-96ccaaaa27e8",
   "metadata": {},
   "outputs": [
    {
     "name": "stdout",
     "output_type": "stream",
     "text": [
      "Decision Trees (Karar Ağaçları) Modeli Performansı:\n",
      "              precision    recall  f1-score   support\n",
      "\n",
      "         ckd       0.92      0.88      0.90        52\n",
      "      notckd       0.80      0.86      0.83        28\n",
      "\n",
      "    accuracy                           0.88        80\n",
      "   macro avg       0.86      0.87      0.86        80\n",
      "weighted avg       0.88      0.88      0.88        80\n",
      "\n"
     ]
    }
   ],
   "source": [
    "from sklearn.tree import DecisionTreeClassifier\n",
    "\n",
    "# Modeli tanımlama ve eğitme\n",
    "dt_model = DecisionTreeClassifier()\n",
    "dt_model.fit(X_train, y_train)\n",
    "\n",
    "# Eğitilmiş modelle test seti üzerinde tahmin yapma\n",
    "dt_y_pred = dt_model.predict(X_test)\n",
    "\n",
    "# Modelin performansını değerlendirme\n",
    "print(\"Decision Trees (Karar Ağaçları) Modeli Performansı:\")\n",
    "print(classification_report(y_test, dt_y_pred))"
   ]
  },
  {
   "cell_type": "code",
   "execution_count": 14,
   "id": "e5dbd008-542d-4c1b-b779-e727d0f725da",
   "metadata": {},
   "outputs": [
    {
     "name": "stdout",
     "output_type": "stream",
     "text": [
      "Lojistik Regresyon Modeli Performansı:\n",
      "              precision    recall  f1-score   support\n",
      "\n",
      "         ckd       1.00      0.96      0.98        52\n",
      "      notckd       0.93      1.00      0.97        28\n",
      "\n",
      "    accuracy                           0.97        80\n",
      "   macro avg       0.97      0.98      0.97        80\n",
      "weighted avg       0.98      0.97      0.98        80\n",
      "\n"
     ]
    }
   ],
   "source": [
    "from sklearn.linear_model import LogisticRegression\n",
    "\n",
    "# Modeli tanımlama ve eğitme\n",
    "logreg_model = LogisticRegression()\n",
    "logreg_model.fit(X_train, y_train)\n",
    "\n",
    "# Eğitilmiş modelle test seti üzerinde tahmin yapma\n",
    "logreg_y_pred = logreg_model.predict(X_test)\n",
    "\n",
    "# Modelin performansını değerlendirme\n",
    "print(\"Lojistik Regresyon Modeli Performansı:\")\n",
    "print(classification_report(y_test, logreg_y_pred))"
   ]
  },
  {
   "cell_type": "code",
   "execution_count": 15,
   "id": "bca29250-5187-4905-96f8-7d7a47ecebf0",
   "metadata": {},
   "outputs": [
    {
     "name": "stdout",
     "output_type": "stream",
     "text": [
      "              precision    recall  f1-score   support\n",
      "\n",
      "         ckd       1.00      0.94      0.97        52\n",
      "      notckd       0.90      1.00      0.95        28\n",
      "\n",
      "    accuracy                           0.96        80\n",
      "   macro avg       0.95      0.97      0.96        80\n",
      "weighted avg       0.97      0.96      0.96        80\n",
      "\n"
     ]
    }
   ],
   "source": [
    "from sklearn.neural_network import MLPClassifier\n",
    "\n",
    "# Yapay sinir ağı modelini tanımlama ve parametrelerini belirleme\n",
    "model = MLPClassifier(hidden_layer_sizes=(100, 50), max_iter=500)\n",
    "\n",
    "# Modeli eğitme\n",
    "model.fit(X_train, y_train)\n",
    "\n",
    "# Eğitilmiş modelle test seti üzerinde tahmin yapma\n",
    "y_pred = model.predict(X_test)\n",
    "\n",
    "# Modelin performansını değerlendirme\n",
    "from sklearn.metrics import classification_report\n",
    "print(classification_report(y_test, y_pred))"
   ]
  },
  {
   "cell_type": "code",
   "execution_count": null,
   "id": "484f3ab7-8352-4056-81c4-573ac64589a5",
   "metadata": {},
   "outputs": [],
   "source": []
  }
 ],
 "metadata": {
  "kernelspec": {
   "display_name": "Python 3 (ipykernel)",
   "language": "python",
   "name": "python3"
  },
  "language_info": {
   "codemirror_mode": {
    "name": "ipython",
    "version": 3
   },
   "file_extension": ".py",
   "mimetype": "text/x-python",
   "name": "python",
   "nbconvert_exporter": "python",
   "pygments_lexer": "ipython3",
   "version": "3.12.3"
  }
 },
 "nbformat": 4,
 "nbformat_minor": 5
}
